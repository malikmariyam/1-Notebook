{
  "metadata": {
    "kernelspec": {
      "name": "python",
      "display_name": "Python (Pyodide)",
      "language": "python"
    },
    "language_info": {
      "codemirror_mode": {
        "name": "python",
        "version": 3
      },
      "file_extension": ".py",
      "mimetype": "text/x-python",
      "name": "python",
      "nbconvert_exporter": "python",
      "pygments_lexer": "ipython3",
      "version": "3.8"
    }
  },
  "nbformat_minor": 5,
  "nbformat": 4,
  "cells": [
    {
      "id": "b14f8d85-45d2-4f7a-a9f7-f9518d8b7025",
      "cell_type": "markdown",
      "source": "# My Title",
      "metadata": {}
    },
    {
      "id": "fee0b6c9-d820-440b-884f-3ea72e667f1f",
      "cell_type": "markdown",
      "source": "This notebook explores various concepts in data science.",
      "metadata": {}
    },
    {
      "id": "d339c704-a2fa-437e-acaf-7fc4ed4e2d1a",
      "cell_type": "markdown",
      "source": "In the field of data science, several programming languages are commonly used. Here is a list of them:\n\n1. Python\n2. R\n3. SQL\n4. Java\n5. Julia",
      "metadata": {}
    },
    {
      "id": "4f9324f5-8560-49ee-bd46-d4e0bde45f90",
      "cell_type": "markdown",
      "source": "In the realm of data science, several powerful libraries are widely used. Here are some of the most popular ones:\n\n1. Pandas\n2. NumPy\n3. Matplotlib\n4. Scikit-learn\n5. TensorFlow",
      "metadata": {}
    },
    {
      "id": "aabeba58-8f5b-45fb-b1f3-181bb702f518",
      "cell_type": "markdown",
      "source": "| Tool          | Purpose                     |\n|---------------|-----------------------------|\n| Jupyter       | Interactive notebooks        |\n| Pandas        | Data manipulation and analysis |\n| Matplotlib    | Data visualization           |\n| Scikit-learn  | Machine learning             |\n| TensorFlow    | Deep learning                |",
      "metadata": {}
    },
    {
      "id": "62362f20-c1a7-43a3-91ff-25fa5979387c",
      "cell_type": "markdown",
      "source": "In this section, we will explore some examples of arithmetic expressions commonly used in programming.",
      "metadata": {}
    },
    {
      "id": "9f7e577d-cc0d-4b64-b821-105f55e70f29",
      "cell_type": "markdown",
      "source": "# Define two integers\na = 5\nb = 10\n\n# Multiply the integers\nmultiplication_result = a * b\n\n# Add the integers\naddition_result = a + b\n\n# Print the results\nprint(\"Multiplication Result:\", multiplication_result)\nprint(\"Addition Result:\", addition_result)",
      "metadata": {}
    },
    {
      "id": "0775d8df-f8b5-4291-b784-86c652ecff50",
      "cell_type": "code",
      "source": "# Define two integers\na = 5\nb = 10\n\n# Multiply the integers\nmultiplication_result = a * b\n\n# Add the integers\naddition_result = a + b\n\n# Print the results\nprint(\"Multiplication Result:\", multiplication_result)\nprint(\"Addition Result:\", addition_result)",
      "metadata": {
        "trusted": true
      },
      "outputs": [
        {
          "name": "stdout",
          "output_type": "stream",
          "text": "Multiplication Result: 50\nAddition Result: 15\n"
        }
      ],
      "execution_count": 1
    },
    {
      "id": "33c18d09-4104-433d-a0a6-0ae3df0b304f",
      "cell_type": "code",
      "source": "# Function to convert minutes to hours\ndef minutes_to_hours(minutes):\n    hours = minutes / 60\n    return hours\n\n# Example usage\nminutes_input = 120  # You can change this value\nhours_output = minutes_to_hours(minutes_input)\n\n# Print the result\nprint(f\"{minutes_input} minutes is equal to {hours_output:.2f} hours.\")",
      "metadata": {
        "trusted": true
      },
      "outputs": [
        {
          "name": "stdout",
          "output_type": "stream",
          "text": "120 minutes is equal to 2.00 hours.\n"
        }
      ],
      "execution_count": 2
    },
    {
      "id": "601e0d88-8771-4aa8-a16a-1bd113e11da6",
      "cell_type": "markdown",
      "source": "The objectives of this notebook are as follows:\n\n- Understand the basics of Python programming.\n- Learn how to work with data using Pandas.\n- Visualize data using Matplotlib.\n- Explore machine learning concepts with Scikit-learn.\n- Apply skills to real-world data science problems.",
      "metadata": {}
    },
    {
      "id": "98502f81-50c5-49ad-a864-add725095c03",
      "cell_type": "markdown",
      "source": "### Author Information\n**Author:** John Doe\n**Email:** johndoe@example.com",
      "metadata": {}
    },
    {
      "id": "cd4c79fd-ba07-45db-a4a0-c0a8f4c265f1",
      "cell_type": "code",
      "source": "",
      "metadata": {
        "trusted": true
      },
      "outputs": [],
      "execution_count": null
    }
  ]
}